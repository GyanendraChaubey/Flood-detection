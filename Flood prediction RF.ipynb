{
 "cells": [
  {
   "cell_type": "code",
   "execution_count": 128,
   "metadata": {},
   "outputs": [],
   "source": [
    "#Import the necessary libraries\n",
    "import pandas as pd\n",
    "import numpy as np\n",
    "import statistics\n",
    "import matplotlib.pyplot as plt\n",
    "import seaborn as sns\n",
    "sns.set()\n",
    "import warnings\n",
    "warnings.filterwarnings('ignore')"
   ]
  },
  {
   "cell_type": "code",
   "execution_count": 129,
   "metadata": {},
   "outputs": [],
   "source": [
    "#Read the data\n",
    "data=pd.read_csv('D:\\Machine Learning\\Research Work\\Flood Detection by Swati Sharma\\Preprocessed Data for Flood Detection.csv')"
   ]
  },
  {
   "cell_type": "code",
   "execution_count": 130,
   "metadata": {},
   "outputs": [],
   "source": [
    "#Make a copy of dataset\n",
    "df=data.copy()"
   ]
  },
  {
   "cell_type": "code",
   "execution_count": 131,
   "metadata": {},
   "outputs": [
    {
     "data": {
      "text/plain": [
       "SUITABILITY=County to Town               1\n",
       "SUITABILITY=National to County           1\n",
       "SUITABILITY=Property (inc. internal)     1\n",
       "SUITABILITY=Street to Parcels of land    1\n",
       "SUITABILITY=Town to Street               1\n",
       "RISK_FOR_INSURANCE_SOP=No                1\n",
       "RISK_FOR_INSURANCE_SOP=Yes               1\n",
       "easting                                  1\n",
       "northing                                 1\n",
       "latitude                                 1\n",
       "longitude                                1\n",
       "PROB_4BAND                               0\n",
       "dtype: int64"
      ]
     },
     "execution_count": 131,
     "metadata": {},
     "output_type": "execute_result"
    }
   ],
   "source": [
    "#checking for null values\n",
    "df.isnull().sum()"
   ]
  },
  {
   "cell_type": "code",
   "execution_count": 132,
   "metadata": {},
   "outputs": [],
   "source": [
    "#Drop the null value rows in data\n",
    "df.dropna(subset = [\"SUITABILITY=County to Town\",\"RISK_FOR_INSURANCE_SOP=No\"], inplace=True)"
   ]
  },
  {
   "cell_type": "code",
   "execution_count": 133,
   "metadata": {},
   "outputs": [
    {
     "data": {
      "text/html": [
       "<div>\n",
       "<style scoped>\n",
       "    .dataframe tbody tr th:only-of-type {\n",
       "        vertical-align: middle;\n",
       "    }\n",
       "\n",
       "    .dataframe tbody tr th {\n",
       "        vertical-align: top;\n",
       "    }\n",
       "\n",
       "    .dataframe thead th {\n",
       "        text-align: right;\n",
       "    }\n",
       "</style>\n",
       "<table border=\"1\" class=\"dataframe\">\n",
       "  <thead>\n",
       "    <tr style=\"text-align: right;\">\n",
       "      <th></th>\n",
       "      <th>SUITABILITY=County to Town</th>\n",
       "      <th>SUITABILITY=National to County</th>\n",
       "      <th>SUITABILITY=Property (inc. internal)</th>\n",
       "      <th>SUITABILITY=Street to Parcels of land</th>\n",
       "      <th>SUITABILITY=Town to Street</th>\n",
       "      <th>RISK_FOR_INSURANCE_SOP=No</th>\n",
       "      <th>RISK_FOR_INSURANCE_SOP=Yes</th>\n",
       "      <th>easting</th>\n",
       "      <th>northing</th>\n",
       "      <th>latitude</th>\n",
       "      <th>longitude</th>\n",
       "      <th>PROB_4BAND</th>\n",
       "    </tr>\n",
       "  </thead>\n",
       "  <tbody>\n",
       "    <tr>\n",
       "      <th>0</th>\n",
       "      <td>continuous</td>\n",
       "      <td>continuous</td>\n",
       "      <td>continuous</td>\n",
       "      <td>continuous</td>\n",
       "      <td>continuous</td>\n",
       "      <td>continuous</td>\n",
       "      <td>continuous</td>\n",
       "      <td>continuous</td>\n",
       "      <td>continuous</td>\n",
       "      <td>continuous</td>\n",
       "      <td>continuous</td>\n",
       "      <td>discrete</td>\n",
       "    </tr>\n",
       "    <tr>\n",
       "      <th>2</th>\n",
       "      <td>0.6306544691077316</td>\n",
       "      <td>-0.2591455397845637</td>\n",
       "      <td>-0.012381759480510067</td>\n",
       "      <td>-0.31035910939548633</td>\n",
       "      <td>-0.39269883082452467</td>\n",
       "      <td>-1.9563376057471351</td>\n",
       "      <td>1.9563376057471351</td>\n",
       "      <td>-3.961233254531932</td>\n",
       "      <td>-1.9656974617341265</td>\n",
       "      <td>-2.006605260370918</td>\n",
       "      <td>-3.815880392042279</td>\n",
       "      <td>High</td>\n",
       "    </tr>\n",
       "    <tr>\n",
       "      <th>3</th>\n",
       "      <td>0.6306544691077316</td>\n",
       "      <td>-0.2591455397845637</td>\n",
       "      <td>-0.012381759480510067</td>\n",
       "      <td>-0.31035910939548633</td>\n",
       "      <td>-0.39269883082452467</td>\n",
       "      <td>-1.9563376057471351</td>\n",
       "      <td>1.9563376057471351</td>\n",
       "      <td>-3.9586525356649074</td>\n",
       "      <td>-1.9657047661204807</td>\n",
       "      <td>-2.006546019965618</td>\n",
       "      <td>-3.8134140345003806</td>\n",
       "      <td>High</td>\n",
       "    </tr>\n",
       "    <tr>\n",
       "      <th>4</th>\n",
       "      <td>0.6306544691077316</td>\n",
       "      <td>-0.2591455397845637</td>\n",
       "      <td>-0.012381759480510067</td>\n",
       "      <td>-0.31035910939548633</td>\n",
       "      <td>-0.39269883082452467</td>\n",
       "      <td>-1.9563376057471351</td>\n",
       "      <td>1.9563376057471351</td>\n",
       "      <td>-3.9571124292442637</td>\n",
       "      <td>-1.9653833731208976</td>\n",
       "      <td>-2.0061857084594106</td>\n",
       "      <td>-3.811970498318752</td>\n",
       "      <td>High</td>\n",
       "    </tr>\n",
       "    <tr>\n",
       "      <th>5</th>\n",
       "      <td>0.6306544691077316</td>\n",
       "      <td>-0.2591455397845637</td>\n",
       "      <td>-0.012381759480510067</td>\n",
       "      <td>-0.31035910939548633</td>\n",
       "      <td>-0.39269883082452467</td>\n",
       "      <td>0.5111592176433652</td>\n",
       "      <td>-0.5111592176433652</td>\n",
       "      <td>-3.938256531715842</td>\n",
       "      <td>-1.945383963283207</td>\n",
       "      <td>-1.9857566952674424</td>\n",
       "      <td>-3.7957316659703024</td>\n",
       "      <td>Low</td>\n",
       "    </tr>\n",
       "  </tbody>\n",
       "</table>\n",
       "</div>"
      ],
      "text/plain": [
       "  SUITABILITY=County to Town SUITABILITY=National to County  \\\n",
       "0                 continuous                     continuous   \n",
       "2         0.6306544691077316            -0.2591455397845637   \n",
       "3         0.6306544691077316            -0.2591455397845637   \n",
       "4         0.6306544691077316            -0.2591455397845637   \n",
       "5         0.6306544691077316            -0.2591455397845637   \n",
       "\n",
       "  SUITABILITY=Property (inc. internal) SUITABILITY=Street to Parcels of land  \\\n",
       "0                           continuous                            continuous   \n",
       "2                -0.012381759480510067                  -0.31035910939548633   \n",
       "3                -0.012381759480510067                  -0.31035910939548633   \n",
       "4                -0.012381759480510067                  -0.31035910939548633   \n",
       "5                -0.012381759480510067                  -0.31035910939548633   \n",
       "\n",
       "  SUITABILITY=Town to Street RISK_FOR_INSURANCE_SOP=No  \\\n",
       "0                 continuous                continuous   \n",
       "2       -0.39269883082452467       -1.9563376057471351   \n",
       "3       -0.39269883082452467       -1.9563376057471351   \n",
       "4       -0.39269883082452467       -1.9563376057471351   \n",
       "5       -0.39269883082452467        0.5111592176433652   \n",
       "\n",
       "  RISK_FOR_INSURANCE_SOP=Yes              easting             northing  \\\n",
       "0                 continuous           continuous           continuous   \n",
       "2         1.9563376057471351   -3.961233254531932  -1.9656974617341265   \n",
       "3         1.9563376057471351  -3.9586525356649074  -1.9657047661204807   \n",
       "4         1.9563376057471351  -3.9571124292442637  -1.9653833731208976   \n",
       "5        -0.5111592176433652   -3.938256531715842   -1.945383963283207   \n",
       "\n",
       "              latitude            longitude PROB_4BAND  \n",
       "0           continuous           continuous   discrete  \n",
       "2   -2.006605260370918   -3.815880392042279       High  \n",
       "3   -2.006546019965618  -3.8134140345003806       High  \n",
       "4  -2.0061857084594106   -3.811970498318752       High  \n",
       "5  -1.9857566952674424  -3.7957316659703024        Low  "
      ]
     },
     "execution_count": 133,
     "metadata": {},
     "output_type": "execute_result"
    }
   ],
   "source": [
    "#head of data\n",
    "df.head()"
   ]
  },
  {
   "cell_type": "code",
   "execution_count": 134,
   "metadata": {},
   "outputs": [],
   "source": [
    "#dropping the first row\n",
    "df=df.drop(index=0)"
   ]
  },
  {
   "cell_type": "code",
   "execution_count": 135,
   "metadata": {},
   "outputs": [],
   "source": [
    "#Changing the values from string to float\n",
    "df['SUITABILITY=County to Town'] =df['SUITABILITY=County to Town'].astype(float)\n",
    "df['SUITABILITY=National to County'] = df['SUITABILITY=National to County'].astype(float)\n",
    "df['SUITABILITY=Property (inc. internal)'] = df['SUITABILITY=Property (inc. internal)'].astype(float)\n",
    "df['SUITABILITY=Street to Parcels of land'] = df['SUITABILITY=Street to Parcels of land'].astype(float)\n",
    "df['SUITABILITY=Town to Street'] = df['SUITABILITY=Town to Street'].astype(float)\n",
    "df['RISK_FOR_INSURANCE_SOP=No'] = df['RISK_FOR_INSURANCE_SOP=No'].astype(float)\n",
    "df['RISK_FOR_INSURANCE_SOP=Yes'] = df['RISK_FOR_INSURANCE_SOP=Yes'].astype(float)\n",
    "df['easting'] = df['easting'].astype(float)\n",
    "df['northing'] = df['northing'].astype(float)\n",
    "df['latitude'] = df['latitude'].astype(float)\n",
    "df['longitude'] = df['longitude'].astype(float)"
   ]
  },
  {
   "cell_type": "code",
   "execution_count": 136,
   "metadata": {},
   "outputs": [
    {
     "data": {
      "text/plain": [
       "SUITABILITY=County to Town               0\n",
       "SUITABILITY=National to County           0\n",
       "SUITABILITY=Property (inc. internal)     0\n",
       "SUITABILITY=Street to Parcels of land    0\n",
       "SUITABILITY=Town to Street               0\n",
       "RISK_FOR_INSURANCE_SOP=No                0\n",
       "RISK_FOR_INSURANCE_SOP=Yes               0\n",
       "easting                                  0\n",
       "northing                                 0\n",
       "latitude                                 0\n",
       "longitude                                0\n",
       "PROB_4BAND                               0\n",
       "dtype: int64"
      ]
     },
     "execution_count": 136,
     "metadata": {},
     "output_type": "execute_result"
    }
   ],
   "source": [
    "#check for null values\n",
    "df.isnull().sum()"
   ]
  },
  {
   "cell_type": "code",
   "execution_count": 137,
   "metadata": {},
   "outputs": [
    {
     "name": "stdout",
     "output_type": "stream",
     "text": [
      "2    High\n",
      "3    High\n",
      "4    High\n",
      "5     Low\n",
      "6     Low\n",
      "Name: PROB_4BAND, dtype: object\n"
     ]
    }
   ],
   "source": [
    "#split the dataset into features and target variable\n",
    "y = df['PROB_4BAND']\n",
    "x = df.drop('PROB_4BAND',axis = 1)\n",
    "print(y.head())"
   ]
  },
  {
   "cell_type": "markdown",
   "metadata": {},
   "source": [
    "#"
   ]
  },
  {
   "cell_type": "code",
   "execution_count": 138,
   "metadata": {},
   "outputs": [
    {
     "name": "stdout",
     "output_type": "stream",
     "text": [
      "(50233, 11)\n",
      "(50233,)\n"
     ]
    }
   ],
   "source": [
    "#Split the data into training and testing\n",
    "from sklearn.model_selection import train_test_split\n",
    "x_train, x_test, y_train, y_test = train_test_split(x,y, test_size=0.3, random_state=0)\n",
    "print(x_train.shape)\n",
    "print(y_train.shape)"
   ]
  },
  {
   "cell_type": "code",
   "execution_count": 139,
   "metadata": {},
   "outputs": [
    {
     "data": {
      "text/plain": [
       "RandomForestClassifier()"
      ]
     },
     "execution_count": 139,
     "metadata": {},
     "output_type": "execute_result"
    }
   ],
   "source": [
    "from sklearn.ensemble import RandomForestClassifier\n",
    "from sklearn.model_selection import cross_val_score\n",
    "clf=RandomForestClassifier()\n",
    "clf.fit(x_train,y_train)"
   ]
  },
  {
   "cell_type": "code",
   "execution_count": 140,
   "metadata": {},
   "outputs": [
    {
     "name": "stdout",
     "output_type": "stream",
     "text": [
      " Testing Accuracy: 88.58%\n",
      "Cross Validation Accuracy: 88.20% \n"
     ]
    }
   ],
   "source": [
    "#Checking the accuracy of model\n",
    "from sklearn.metrics import accuracy_score\n",
    "y_pred=clf.predict(x_test)\n",
    "accuracy = accuracy_score(y_test, y_pred)\n",
    "print(\" Testing Accuracy: %.2f%%\" % (accuracy * 100.0))\n",
    "scores = cross_val_score(clf, x_train, y_train, cv=10)\n",
    "print(\"Cross Validation Accuracy: %.2f%% \" % (scores.mean()*100))"
   ]
  },
  {
   "cell_type": "code",
   "execution_count": 141,
   "metadata": {},
   "outputs": [
    {
     "data": {
      "text/plain": [
       "Text(0.5, 1.0, 'Random Forest')"
      ]
     },
     "execution_count": 141,
     "metadata": {},
     "output_type": "execute_result"
    },
    {
     "data": {
      "image/png": "[encoded data removed]",
      "text/plain": [
       "<Figure size 432x288 with 2 Axes>"
      ]
     },
     "metadata": {},
     "output_type": "display_data"
    }
   ],
   "source": [
    "#confusion matrix\n",
    "from sklearn.metrics import confusion_matrix\n",
    "con = confusion_matrix(y_test,y_pred)\n",
    "import seaborn as sns\n",
    "import matplotlib.pyplot as plt\n",
    "axes = sns.heatmap(con, square=True,annot=True,fmt='d',cbar = True, cmap = plt.cm.GnBu)\n",
    "ax = plt.axes()\n",
    "plt.xlabel('Predicted Values')\n",
    "plt.ylabel('Actual values')\n",
    "ax.set_title('Random Forest')"
   ]
  },
  {
   "cell_type": "markdown",
   "metadata": {},
   "source": [
    "#"
   ]
  },
  {
   "cell_type": "code",
   "execution_count": 142,
   "metadata": {},
   "outputs": [
    {
     "name": "stdout",
     "output_type": "stream",
     "text": [
      "Random Forest\n",
      "              precision    recall  f1-score   support\n",
      "\n",
      "        High       0.88      0.91      0.89      2587\n",
      "         Low       0.92      0.94      0.93     13154\n",
      "      Medium       0.80      0.73      0.77      5064\n",
      "    Very Low       0.84      0.84      0.84       724\n",
      "\n",
      "    accuracy                           0.89     21529\n",
      "   macro avg       0.86      0.85      0.86     21529\n",
      "weighted avg       0.88      0.89      0.88     21529\n",
      "\n"
     ]
    }
   ],
   "source": [
    "from sklearn.metrics import classification_report\n",
    "print('Random Forest')\n",
    "print(classification_report(y_test, y_pred))"
   ]
  },
  {
   "cell_type": "code",
   "execution_count": 143,
   "metadata": {},
   "outputs": [
    {
     "name": "stdout",
     "output_type": "stream",
     "text": [
      "One-vs-One ROC AUC scores:\n",
      "0.969912 (macro),\n",
      "0.967999 (weighted by prevalence)\n",
      "One-vs-Rest ROC AUC scores:\n",
      "0.968583 (macro),\n",
      "0.963054 (weighted by prevalence)\n"
     ]
    }
   ],
   "source": [
    "from sklearn.metrics import roc_auc_score\n",
    "y_prob = clf.predict_proba(x_test)\n",
    "\n",
    "macro_roc_auc_ovo = roc_auc_score(y_test, y_prob, multi_class=\"ovo\",\n",
    "                                  average=\"macro\")\n",
    "weighted_roc_auc_ovo = roc_auc_score(y_test, y_prob, multi_class=\"ovo\",\n",
    "                                     average=\"weighted\")\n",
    "macro_roc_auc_ovr = roc_auc_score(y_test, y_prob, multi_class=\"ovr\",\n",
    "                                  average=\"macro\")\n",
    "weighted_roc_auc_ovr = roc_auc_score(y_test, y_prob, multi_class=\"ovr\",\n",
    "                                     average=\"weighted\")\n",
    "print(\"One-vs-One ROC AUC scores:\\n{:.6f} (macro),\\n{:.6f} \"\n",
    "      \"(weighted by prevalence)\"\n",
    "      .format(macro_roc_auc_ovo, weighted_roc_auc_ovo))\n",
    "print(\"One-vs-Rest ROC AUC scores:\\n{:.6f} (macro),\\n{:.6f} \"\n",
    "      \"(weighted by prevalence)\"\n",
    "      .format(macro_roc_auc_ovr, weighted_roc_auc_ovr))"
   ]
  },
  {
   "cell_type": "code",
   "execution_count": 144,
   "metadata": {},
   "outputs": [
    {
     "data": {
      "image/png": "[encoded data removed]",
      "text/plain": [
       "<Figure size 720x1080 with 3 Axes>"
      ]
     },
     "metadata": {},
     "output_type": "display_data"
    }
   ],
   "source": [
    " #from sklearn.model_selection import learning_curve\n",
    "from sklearn.model_selection import learning_curve\n",
    "from sklearn.model_selection import ShuffleSplit\n",
    "\n",
    "\n",
    "def plot_learning_curve(estimator, title, x, y, axes=None, ylim=None, cv=None,\n",
    "                        n_jobs=None, train_sizes=np.linspace(.1, 1.0, 5)):\n",
    "   \n",
    "    if axes is None:\n",
    "        _, axes = plt.subplots(1, 1, figsize=(20, 5))\n",
    "\n",
    "    axes[0].set_title(title)\n",
    "    if ylim is not None:\n",
    "        axes[0].set_ylim(*ylim)\n",
    "    axes[0].set_xlabel(\"Training examples\")\n",
    "    axes[0].set_ylabel(\"Score\")\n",
    "\n",
    "    train_sizes, train_scores, test_scores, fit_times, _ = \\\n",
    "        learning_curve(estimator, x, y, cv=cv, n_jobs=n_jobs,\n",
    "                       train_sizes=train_sizes,\n",
    "                       return_times=True)\n",
    "    train_scores_mean = np.mean(train_scores, axis=1)\n",
    "    train_scores_std = np.std(train_scores, axis=1)\n",
    "    test_scores_mean = np.mean(test_scores, axis=1)\n",
    "    test_scores_std = np.std(test_scores, axis=1)\n",
    "    fit_times_mean = np.mean(fit_times, axis=1)\n",
    "    fit_times_std = np.std(fit_times, axis=1)\n",
    "\n",
    "    # Plot learning curve\n",
    "    axes[0].grid()\n",
    "    axes[0].fill_between(train_sizes, train_scores_mean - train_scores_std,\n",
    "                         train_scores_mean + train_scores_std, alpha=0.1,\n",
    "                         color=\"r\")\n",
    "    axes[0].fill_between(train_sizes, test_scores_mean - test_scores_std,\n",
    "                         test_scores_mean + test_scores_std, alpha=0.1,\n",
    "                         color=\"g\")\n",
    "    axes[0].plot(train_sizes, train_scores_mean, 'o-', color=\"r\",\n",
    "                 label=\"Training score\")\n",
    "    axes[0].plot(train_sizes, test_scores_mean, 'o-', color=\"g\",\n",
    "                 label=\"Cross-validation score\")\n",
    "    axes[0].legend(loc=\"best\")\n",
    "\n",
    "    # Plot n_samples vs fit_times\n",
    "    axes[1].grid()\n",
    "    axes[1].plot(train_sizes, fit_times_mean, 'o-')\n",
    "    axes[1].fill_between(train_sizes, fit_times_mean - fit_times_std,\n",
    "                         fit_times_mean + fit_times_std, alpha=0.1)\n",
    "    axes[1].set_xlabel(\"Training examples\")\n",
    "    axes[1].set_ylabel(\"fit_times\")\n",
    "    axes[1].set_title(\"Scalability of the model\")\n",
    "\n",
    "    # Plot fit_time vs score\n",
    "    axes[2].grid()\n",
    "    axes[2].plot(fit_times_mean, test_scores_mean, 'o-')\n",
    "    axes[2].fill_between(fit_times_mean, test_scores_mean - test_scores_std,\n",
    "                         test_scores_mean + test_scores_std, alpha=0.1)\n",
    "    axes[2].set_xlabel(\"fit_times\")\n",
    "    axes[2].set_ylabel(\"Score\")\n",
    "    axes[2].set_title(\"Performance of the model\")\n",
    "\n",
    "\n",
    "fig, axes = plt.subplots(3, 1, figsize=(10, 15))\n",
    "\n",
    "title = \"Learning Curves (Random Forest)\"\n",
    "# Cross validation with 10 iterations to get smoother mean test and train\n",
    "# score curves, each time with 20% data randomly selected as a validation set.\n",
    "cv = ShuffleSplit(n_splits=10, test_size=0.2, random_state=0)\n",
    "\n",
    "estimator = RandomForestClassifier()\n",
    "plot_learning_curve(estimator, title, x, y,axes=axes[:,], cv=cv, ylim=(0.7, 1.01), n_jobs=4)\n",
    "\n",
    "plt.show()"
   ]
  },
  {
   "cell_type": "markdown",
   "metadata": {},
   "source": [
    "#"
   ]
  },
  {
   "cell_type": "markdown",
   "metadata": {},
   "source": [
    "#"
   ]
  },
  {
   "cell_type": "code",
   "execution_count": null,
   "metadata": {},
   "outputs": [],
   "source": []
  }
 ],
 "metadata": {
  "kernelspec": {
   "display_name": "Python 3",
   "language": "python",
   "name": "python3"
  },
  "language_info": {
   "codemirror_mode": {
    "name": "ipython",
    "version": 3
   },
   "file_extension": ".py",
   "mimetype": "text/x-python",
   "name": "python",
   "nbconvert_exporter": "python",
   "pygments_lexer": "ipython3",
   "version": "3.7.3"
  }
 },
 "nbformat": 4,
 "nbformat_minor": 2
}
