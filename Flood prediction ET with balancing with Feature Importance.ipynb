{
  "cells": [
    {
      "cell_type": "markdown",
      "metadata": {
        "id": "view-in-github",
        "colab_type": "text"
      },
      "source": [
        "<a href=\"https://colab.research.google.com/github/GyanendraChaubey/Flood-detection/blob/main/Flood%20prediction%20ET%20with%20balancing%20with%20Feature%20Importance.ipynb\" target=\"_parent\"><img src=\"https://colab.research.google.com/assets/colab-badge.svg\" alt=\"Open In Colab\"/></a>"
      ]
    },
    {
      "cell_type": "code",
      "execution_count": 1,
      "metadata": {
        "id": "Du1WoJgA6z7L"
      },
      "outputs": [],
      "source": [
        "#Import the necessary libraries\n",
        "import pandas as pd\n",
        "import numpy as np\n",
        "import statistics\n",
        "import matplotlib.pyplot as plt\n",
        "import seaborn as sns\n",
        "sns.set()\n",
        "import warnings\n",
        "warnings.filterwarnings('ignore')"
      ]
    },
    {
      "cell_type": "code",
      "execution_count": 2,
      "metadata": {
        "id": "G7raRgVW6z7O"
      },
      "outputs": [],
      "source": [
        "#Read the data\n",
        "url='https://raw.githubusercontent.com/GyanendraChaubey/Flood-detection/main/Preprocessed%20Data%20for%20Flood%20Detection.csv'\n",
        "data=pd.read_csv(url)"
      ]
    },
    {
      "cell_type": "code",
      "execution_count": 3,
      "metadata": {
        "id": "GLyugzMW6z7P"
      },
      "outputs": [],
      "source": [
        "#Make a copy of dataset\n",
        "df=data.copy()"
      ]
    },
    {
      "cell_type": "code",
      "execution_count": 4,
      "metadata": {
        "id": "Ru0BD3db6z7Q",
        "outputId": "daf12d0f-4eb9-403d-eb57-6d4f650889dd",
        "colab": {
          "base_uri": "https://localhost:8080/"
        }
      },
      "outputs": [
        {
          "output_type": "execute_result",
          "data": {
            "text/plain": [
              "SUITABILITY=County to Town               1\n",
              "SUITABILITY=National to County           1\n",
              "SUITABILITY=Property (inc. internal)     1\n",
              "SUITABILITY=Street to Parcels of land    1\n",
              "SUITABILITY=Town to Street               1\n",
              "RISK_FOR_INSURANCE_SOP=No                1\n",
              "RISK_FOR_INSURANCE_SOP=Yes               1\n",
              "easting                                  1\n",
              "northing                                 1\n",
              "latitude                                 1\n",
              "longitude                                1\n",
              "PROB_4BAND                               0\n",
              "dtype: int64"
            ]
          },
          "metadata": {},
          "execution_count": 4
        }
      ],
      "source": [
        "\n",
        "#checking for null values\n",
        "df.isnull().sum()"
      ]
    },
    {
      "cell_type": "code",
      "execution_count": 5,
      "metadata": {
        "id": "zR7Qpsuj6z7R"
      },
      "outputs": [],
      "source": [
        "#Drop the null value rows in data\n",
        "df.dropna(subset = [\"SUITABILITY=County to Town\",\"RISK_FOR_INSURANCE_SOP=No\"], inplace=True)"
      ]
    },
    {
      "cell_type": "code",
      "execution_count": 6,
      "metadata": {
        "id": "8b_sbH-26z7S",
        "outputId": "268ee26e-01f8-48e5-a00e-225f574e1acd",
        "colab": {
          "base_uri": "https://localhost:8080/",
          "height": 243
        }
      },
      "outputs": [
        {
          "output_type": "execute_result",
          "data": {
            "text/html": [
              "<div>\n",
              "<style scoped>\n",
              "    .dataframe tbody tr th:only-of-type {\n",
              "        vertical-align: middle;\n",
              "    }\n",
              "\n",
              "    .dataframe tbody tr th {\n",
              "        vertical-align: top;\n",
              "    }\n",
              "\n",
              "    .dataframe thead th {\n",
              "        text-align: right;\n",
              "    }\n",
              "</style>\n",
              "<table border=\"1\" class=\"dataframe\">\n",
              "  <thead>\n",
              "    <tr style=\"text-align: right;\">\n",
              "      <th></th>\n",
              "      <th>SUITABILITY=County to Town</th>\n",
              "      <th>SUITABILITY=National to County</th>\n",
              "      <th>SUITABILITY=Property (inc. internal)</th>\n",
              "      <th>SUITABILITY=Street to Parcels of land</th>\n",
              "      <th>SUITABILITY=Town to Street</th>\n",
              "      <th>RISK_FOR_INSURANCE_SOP=No</th>\n",
              "      <th>RISK_FOR_INSURANCE_SOP=Yes</th>\n",
              "      <th>easting</th>\n",
              "      <th>northing</th>\n",
              "      <th>latitude</th>\n",
              "      <th>longitude</th>\n",
              "      <th>PROB_4BAND</th>\n",
              "    </tr>\n",
              "  </thead>\n",
              "  <tbody>\n",
              "    <tr>\n",
              "      <th>0</th>\n",
              "      <td>continuous</td>\n",
              "      <td>continuous</td>\n",
              "      <td>continuous</td>\n",
              "      <td>continuous</td>\n",
              "      <td>continuous</td>\n",
              "      <td>continuous</td>\n",
              "      <td>continuous</td>\n",
              "      <td>continuous</td>\n",
              "      <td>continuous</td>\n",
              "      <td>continuous</td>\n",
              "      <td>continuous</td>\n",
              "      <td>discrete</td>\n",
              "    </tr>\n",
              "    <tr>\n",
              "      <th>2</th>\n",
              "      <td>0.6306544691077316</td>\n",
              "      <td>-0.2591455397845637</td>\n",
              "      <td>-0.012381759480510067</td>\n",
              "      <td>-0.31035910939548633</td>\n",
              "      <td>-0.39269883082452467</td>\n",
              "      <td>-1.9563376057471351</td>\n",
              "      <td>1.9563376057471351</td>\n",
              "      <td>-3.961233254531932</td>\n",
              "      <td>-1.9656974617341265</td>\n",
              "      <td>-2.006605260370918</td>\n",
              "      <td>-3.815880392042279</td>\n",
              "      <td>High</td>\n",
              "    </tr>\n",
              "    <tr>\n",
              "      <th>3</th>\n",
              "      <td>0.6306544691077316</td>\n",
              "      <td>-0.2591455397845637</td>\n",
              "      <td>-0.012381759480510067</td>\n",
              "      <td>-0.31035910939548633</td>\n",
              "      <td>-0.39269883082452467</td>\n",
              "      <td>-1.9563376057471351</td>\n",
              "      <td>1.9563376057471351</td>\n",
              "      <td>-3.9586525356649074</td>\n",
              "      <td>-1.9657047661204807</td>\n",
              "      <td>-2.006546019965618</td>\n",
              "      <td>-3.8134140345003806</td>\n",
              "      <td>High</td>\n",
              "    </tr>\n",
              "    <tr>\n",
              "      <th>4</th>\n",
              "      <td>0.6306544691077316</td>\n",
              "      <td>-0.2591455397845637</td>\n",
              "      <td>-0.012381759480510067</td>\n",
              "      <td>-0.31035910939548633</td>\n",
              "      <td>-0.39269883082452467</td>\n",
              "      <td>-1.9563376057471351</td>\n",
              "      <td>1.9563376057471351</td>\n",
              "      <td>-3.9571124292442637</td>\n",
              "      <td>-1.9653833731208976</td>\n",
              "      <td>-2.0061857084594106</td>\n",
              "      <td>-3.811970498318752</td>\n",
              "      <td>High</td>\n",
              "    </tr>\n",
              "    <tr>\n",
              "      <th>5</th>\n",
              "      <td>0.6306544691077316</td>\n",
              "      <td>-0.2591455397845637</td>\n",
              "      <td>-0.012381759480510067</td>\n",
              "      <td>-0.31035910939548633</td>\n",
              "      <td>-0.39269883082452467</td>\n",
              "      <td>0.5111592176433652</td>\n",
              "      <td>-0.5111592176433652</td>\n",
              "      <td>-3.938256531715842</td>\n",
              "      <td>-1.945383963283207</td>\n",
              "      <td>-1.9857566952674424</td>\n",
              "      <td>-3.7957316659703024</td>\n",
              "      <td>Low</td>\n",
              "    </tr>\n",
              "  </tbody>\n",
              "</table>\n",
              "</div>"
            ],
            "text/plain": [
              "  SUITABILITY=County to Town  ... PROB_4BAND\n",
              "0                 continuous  ...   discrete\n",
              "2         0.6306544691077316  ...       High\n",
              "3         0.6306544691077316  ...       High\n",
              "4         0.6306544691077316  ...       High\n",
              "5         0.6306544691077316  ...        Low\n",
              "\n",
              "[5 rows x 12 columns]"
            ]
          },
          "metadata": {},
          "execution_count": 6
        }
      ],
      "source": [
        "#head of data\n",
        "df.head()"
      ]
    },
    {
      "cell_type": "code",
      "execution_count": 7,
      "metadata": {
        "id": "wQ2L6cxv6z7T"
      },
      "outputs": [],
      "source": [
        "#dropping the first row\n",
        "df=df.drop(index=0)"
      ]
    },
    {
      "cell_type": "code",
      "execution_count": 8,
      "metadata": {
        "id": "A5h091gp6z7U"
      },
      "outputs": [],
      "source": [
        "#Changing the values from string to float\n",
        "df['SUITABILITY=County to Town'] =df['SUITABILITY=County to Town'].astype(float)\n",
        "df['SUITABILITY=National to County'] = df['SUITABILITY=National to County'].astype(float)\n",
        "df['SUITABILITY=Property (inc. internal)'] = df['SUITABILITY=Property (inc. internal)'].astype(float)\n",
        "df['SUITABILITY=Street to Parcels of land'] = df['SUITABILITY=Street to Parcels of land'].astype(float)\n",
        "df['SUITABILITY=Town to Street'] = df['SUITABILITY=Town to Street'].astype(float)\n",
        "df['RISK_FOR_INSURANCE_SOP=No'] = df['RISK_FOR_INSURANCE_SOP=No'].astype(float)\n",
        "df['RISK_FOR_INSURANCE_SOP=Yes'] = df['RISK_FOR_INSURANCE_SOP=Yes'].astype(float)\n",
        "df['easting'] = df['easting'].astype(float)\n",
        "df['northing'] = df['northing'].astype(float)\n",
        "df['latitude'] = df['latitude'].astype(float)\n",
        "df['longitude'] = df['longitude'].astype(float)"
      ]
    },
    {
      "cell_type": "code",
      "execution_count": 9,
      "metadata": {
        "id": "DdErlkYj6z7X",
        "outputId": "cd26fc58-284b-452b-bc39-76cf71fddc2c",
        "colab": {
          "base_uri": "https://localhost:8080/"
        }
      },
      "outputs": [
        {
          "output_type": "execute_result",
          "data": {
            "text/plain": [
              "SUITABILITY=County to Town               0\n",
              "SUITABILITY=National to County           0\n",
              "SUITABILITY=Property (inc. internal)     0\n",
              "SUITABILITY=Street to Parcels of land    0\n",
              "SUITABILITY=Town to Street               0\n",
              "RISK_FOR_INSURANCE_SOP=No                0\n",
              "RISK_FOR_INSURANCE_SOP=Yes               0\n",
              "easting                                  0\n",
              "northing                                 0\n",
              "latitude                                 0\n",
              "longitude                                0\n",
              "PROB_4BAND                               0\n",
              "dtype: int64"
            ]
          },
          "metadata": {},
          "execution_count": 9
        }
      ],
      "source": [
        "#check for null values\n",
        "df.isnull().sum()"
      ]
    },
    {
      "cell_type": "code",
      "execution_count": 10,
      "metadata": {
        "id": "bCS4wkwt6z7Y",
        "outputId": "759acfba-f0a1-4fc9-b3ea-6f694f39e234",
        "colab": {
          "base_uri": "https://localhost:8080/"
        }
      },
      "outputs": [
        {
          "output_type": "stream",
          "name": "stdout",
          "text": [
            "2    High\n",
            "3    High\n",
            "4    High\n",
            "5     Low\n",
            "6     Low\n",
            "Name: PROB_4BAND, dtype: object\n"
          ]
        }
      ],
      "source": [
        "#split the dataset into features and target variable\n",
        "y = df['PROB_4BAND']\n",
        "x = df.drop('PROB_4BAND',axis = 1)\n",
        "print(y.head())"
      ]
    },
    {
      "cell_type": "code",
      "execution_count": 11,
      "metadata": {
        "id": "1nmYn9Ws6z7Z",
        "outputId": "a95c59f6-735a-4af3-a953-155f6db113ec",
        "colab": {
          "base_uri": "https://localhost:8080/"
        }
      },
      "outputs": [
        {
          "output_type": "stream",
          "name": "stdout",
          "text": [
            "class High: (8705, 12)\n",
            "class Low: (43595, 12)\n",
            "class Medium: (17065, 12)\n",
            "class Very Low: (2397, 12)\n"
          ]
        }
      ],
      "source": [
        "#Plotting the numbers of class values to check the data imbalance\n",
        "# class cou\n",
        "#High, Low, Medium, Very-Low = df['PROB_4BAND'].value_counts()\n",
        "\n",
        "# Separate class\n",
        "High = df[df['PROB_4BAND'] == 'High']\n",
        "Low = df[df['PROB_4BAND'] == 'Low']\n",
        "Medium = df[df['PROB_4BAND'] == 'Medium']\n",
        "VeryLow = df[df['PROB_4BAND'] == 'Very Low']\n",
        "# print the shape of the class\n",
        "print('class High:', High.shape)\n",
        "print('class Low:', Low.shape)\n",
        "print('class Medium:', Medium.shape)\n",
        "print('class Very Low:', VeryLow.shape)\n"
      ]
    },
    {
      "cell_type": "code",
      "execution_count": 12,
      "metadata": {
        "id": "nn8Dmy7Z6z7b",
        "outputId": "727695f7-23f4-432b-9785-d47cd5c5e075",
        "colab": {
          "base_uri": "https://localhost:8080/",
          "height": 284
        }
      },
      "outputs": [
        {
          "output_type": "display_data",
          "data": {
            "image/png": "[encoded data removed]",
            "text/plain": [
              "<Figure size 432x288 with 1 Axes>"
            ]
          },
          "metadata": {
            "needs_background": "light"
          }
        }
      ],
      "source": [
        "# visualize the target variable\n",
        "g = sns.countplot(y)\n",
        "g.set_xticklabels(['High','Low','Medium','Very Low'])\n",
        "plt.show()"
      ]
    },
    {
      "cell_type": "code",
      "execution_count": 13,
      "metadata": {
        "id": "bMD3sc7M6z7c"
      },
      "outputs": [],
      "source": [
        "from imblearn.over_sampling import SMOTE\n",
        "smote = SMOTE()\n",
        "x, y = smote.fit_resample(x, y)"
      ]
    },
    {
      "cell_type": "code",
      "execution_count": 14,
      "metadata": {
        "id": "VyOukQaV6z7c",
        "outputId": "730b6f13-d823-4d9c-b9a0-4047f89537af",
        "colab": {
          "base_uri": "https://localhost:8080/",
          "height": 284
        }
      },
      "outputs": [
        {
          "output_type": "display_data",
          "data": {
            "image/png": "[encoded data removed]",
            "text/plain": [
              "<Figure size 432x288 with 1 Axes>"
            ]
          },
          "metadata": {
            "needs_background": "light"
          }
        }
      ],
      "source": [
        "g = sns.countplot(y)\n",
        "g.set_xticklabels(['High','Low','Medium','Very Low'])\n",
        "plt.show()"
      ]
    },
    {
      "cell_type": "code",
      "execution_count": 15,
      "metadata": {
        "id": "W14IH4Zp6z7d",
        "outputId": "ac567fd9-d43c-431a-c2cc-0dc56931200f",
        "colab": {
          "base_uri": "https://localhost:8080/"
        }
      },
      "outputs": [
        {
          "output_type": "stream",
          "name": "stdout",
          "text": [
            "(122066, 11)\n",
            "(122066,)\n"
          ]
        }
      ],
      "source": [
        "#Split the data into training and testing\n",
        "from sklearn.model_selection import train_test_split\n",
        "x_train, x_test, y_train, y_test = train_test_split(x,y, test_size=0.3, random_state=0)\n",
        "print(x_train.shape)\n",
        "print(y_train.shape)"
      ]
    },
    {
      "cell_type": "code",
      "execution_count": 16,
      "metadata": {
        "id": "mkLXhRb36z7e",
        "outputId": "51b3478d-3ed8-4d1f-d07a-8619a678dbd8",
        "colab": {
          "base_uri": "https://localhost:8080/"
        }
      },
      "outputs": [
        {
          "output_type": "execute_result",
          "data": {
            "text/plain": [
              "ExtraTreesClassifier()"
            ]
          },
          "metadata": {},
          "execution_count": 16
        }
      ],
      "source": [
        "from sklearn.ensemble import ExtraTreesClassifier\n",
        "from sklearn.model_selection import cross_val_score\n",
        "clf=ExtraTreesClassifier()\n",
        "clf.fit(x_train,y_train)"
      ]
    },
    {
      "cell_type": "code",
      "execution_count": 17,
      "metadata": {
        "id": "lUGCBx3M6z7f",
        "outputId": "1f14c4dd-9396-45d1-87d4-c2bfdc04012d",
        "colab": {
          "base_uri": "https://localhost:8080/"
        }
      },
      "outputs": [
        {
          "output_type": "stream",
          "name": "stdout",
          "text": [
            " Testing Accuracy: 93.62%\n",
            "Cross Validation Accuracy: 93.32% \n"
          ]
        }
      ],
      "source": [
        "#Checking the accuracy of model\n",
        "from sklearn.metrics import accuracy_score\n",
        "y_pred=clf.predict(x_test)\n",
        "accuracy = accuracy_score(y_test, y_pred)\n",
        "print(\" Testing Accuracy: %.2f%%\" % (accuracy * 100.0))\n",
        "scores = cross_val_score(clf, x_train, y_train, cv=10)\n",
        "print(\"Cross Validation Accuracy: %.2f%% \" % (scores.mean()*100))"
      ]
    },
    {
      "cell_type": "code",
      "execution_count": 18,
      "metadata": {
        "id": "hOn5vgBD6z7g",
        "outputId": "7d2971cb-776b-42ed-b339-00818e7833da",
        "colab": {
          "base_uri": "https://localhost:8080/",
          "height": 320
        }
      },
      "outputs": [
        {
          "output_type": "execute_result",
          "data": {
            "text/plain": [
              "Text(0.5, 1.0, 'ExtraTress Classifier')"
            ]
          },
          "metadata": {},
          "execution_count": 18
        },
        {
          "output_type": "display_data",
          "data": {
            "image/png": "[encoded data removed]",
            "text/plain": [
              "<Figure size 432x288 with 2 Axes>"
            ]
          },
          "metadata": {
            "needs_background": "light"
          }
        }
      ],
      "source": [
        "#confusion matrix\n",
        "from sklearn.metrics import confusion_matrix\n",
        "con = confusion_matrix(y_test,y_pred)\n",
        "import seaborn as sns\n",
        "import matplotlib.pyplot as plt\n",
        "axes = sns.heatmap(con, square=True,annot=True,fmt='d',cbar = True, cmap = plt.cm.GnBu)\n",
        "ax = plt.axes()\n",
        "plt.xlabel('Predicted Values')\n",
        "plt.ylabel('Actual values')\n",
        "ax.set_title('ExtraTress Classifier')"
      ]
    },
    {
      "cell_type": "markdown",
      "metadata": {
        "id": "zD0yhp5s6z7h"
      },
      "source": [
        "#"
      ]
    },
    {
      "cell_type": "code",
      "execution_count": 19,
      "metadata": {
        "id": "12HddV_E6z7j",
        "outputId": "31baa47d-c506-487f-d52e-e8ded400ce8f",
        "colab": {
          "base_uri": "https://localhost:8080/"
        }
      },
      "outputs": [
        {
          "output_type": "stream",
          "name": "stdout",
          "text": [
            "Extra tress\n",
            "              precision    recall  f1-score   support\n",
            "\n",
            "        High       0.96      0.97      0.96     13074\n",
            "         Low       0.92      0.90      0.91     13004\n",
            "      Medium       0.89      0.88      0.89     13031\n",
            "    Very Low       0.98      0.98      0.98     13205\n",
            "\n",
            "    accuracy                           0.94     52314\n",
            "   macro avg       0.94      0.94      0.94     52314\n",
            "weighted avg       0.94      0.94      0.94     52314\n",
            "\n"
          ]
        }
      ],
      "source": [
        "from sklearn.metrics import classification_report\n",
        "print('Extra tress')\n",
        "print(classification_report(y_test, y_pred))"
      ]
    },
    {
      "cell_type": "code",
      "execution_count": 20,
      "metadata": {
        "id": "kzr0-VTG6z7k",
        "outputId": "38e4b9b2-0e55-46ea-a738-a9704d6ebfbd",
        "colab": {
          "base_uri": "https://localhost:8080/"
        }
      },
      "outputs": [
        {
          "output_type": "stream",
          "name": "stdout",
          "text": [
            "One-vs-One ROC AUC scores:\n",
            "0.989857 (macro),\n",
            "0.989883 (weighted by prevalence)\n",
            "One-vs-Rest ROC AUC scores:\n",
            "0.989886 (macro),\n",
            "0.989920 (weighted by prevalence)\n"
          ]
        }
      ],
      "source": [
        "from sklearn.metrics import roc_auc_score\n",
        "y_prob = clf.predict_proba(x_test)\n",
        "\n",
        "macro_roc_auc_ovo = roc_auc_score(y_test, y_prob, multi_class=\"ovo\",\n",
        "                                  average=\"macro\")\n",
        "weighted_roc_auc_ovo = roc_auc_score(y_test, y_prob, multi_class=\"ovo\",\n",
        "                                     average=\"weighted\")\n",
        "macro_roc_auc_ovr = roc_auc_score(y_test, y_prob, multi_class=\"ovr\",\n",
        "                                  average=\"macro\")\n",
        "weighted_roc_auc_ovr = roc_auc_score(y_test, y_prob, multi_class=\"ovr\",\n",
        "                                     average=\"weighted\")\n",
        "print(\"One-vs-One ROC AUC scores:\\n{:.6f} (macro),\\n{:.6f} \"\n",
        "      \"(weighted by prevalence)\"\n",
        "      .format(macro_roc_auc_ovo, weighted_roc_auc_ovo))\n",
        "print(\"One-vs-Rest ROC AUC scores:\\n{:.6f} (macro),\\n{:.6f} \"\n",
        "      \"(weighted by prevalence)\"\n",
        "      .format(macro_roc_auc_ovr, weighted_roc_auc_ovr))"
      ]
    },
    {
      "cell_type": "code",
      "execution_count": 21,
      "metadata": {
        "id": "cUlZOxzI6z7l",
        "outputId": "4294fde9-1b09-4bcc-c791-20a5eb40033c",
        "colab": {
          "base_uri": "https://localhost:8080/",
          "height": 898
        }
      },
      "outputs": [
        {
          "output_type": "display_data",
          "data": {
            "image/png": "[encoded data removed]",
            "text/plain": [
              "<Figure size 720x1080 with 3 Axes>"
            ]
          },
          "metadata": {
            "needs_background": "light"
          }
        }
      ],
      "source": [
        " #from sklearn.model_selection import learning_curve\n",
        "from sklearn.model_selection import learning_curve\n",
        "from sklearn.model_selection import ShuffleSplit\n",
        "\n",
        "\n",
        "def plot_learning_curve(estimator, title, x, y, axes=None, ylim=None, cv=None,\n",
        "                        n_jobs=None, train_sizes=np.linspace(.1, 1.0, 5)):\n",
        "   \n",
        "    if axes is None:\n",
        "        _, axes = plt.subplots(1, 1, figsize=(20, 5))\n",
        "\n",
        "    axes[0].set_title(title)\n",
        "    if ylim is not None:\n",
        "        axes[0].set_ylim(*ylim)\n",
        "    axes[0].set_xlabel(\"Training examples\")\n",
        "    axes[0].set_ylabel(\"Score\")\n",
        "\n",
        "    train_sizes, train_scores, test_scores, fit_times, _ = \\\n",
        "        learning_curve(estimator, x, y, cv=cv, n_jobs=n_jobs,\n",
        "                       train_sizes=train_sizes,\n",
        "                       return_times=True)\n",
        "    train_scores_mean = np.mean(train_scores, axis=1)\n",
        "    train_scores_std = np.std(train_scores, axis=1)\n",
        "    test_scores_mean = np.mean(test_scores, axis=1)\n",
        "    test_scores_std = np.std(test_scores, axis=1)\n",
        "    fit_times_mean = np.mean(fit_times, axis=1)\n",
        "    fit_times_std = np.std(fit_times, axis=1)\n",
        "\n",
        "    # Plot learning curve\n",
        "    axes[0].grid()\n",
        "    axes[0].fill_between(train_sizes, train_scores_mean - train_scores_std,\n",
        "                         train_scores_mean + train_scores_std, alpha=0.1,\n",
        "                         color=\"r\")\n",
        "    axes[0].fill_between(train_sizes, test_scores_mean - test_scores_std,\n",
        "                         test_scores_mean + test_scores_std, alpha=0.1,\n",
        "                         color=\"g\")\n",
        "    axes[0].plot(train_sizes, train_scores_mean, 'o-', color=\"r\",\n",
        "                 label=\"Training score\")\n",
        "    axes[0].plot(train_sizes, test_scores_mean, 'o-', color=\"g\",\n",
        "                 label=\"Cross-validation score\")\n",
        "    axes[0].legend(loc=\"best\")\n",
        "\n",
        "    # Plot n_samples vs fit_times\n",
        "    axes[1].grid()\n",
        "    axes[1].plot(train_sizes, fit_times_mean, 'o-')\n",
        "    axes[1].fill_between(train_sizes, fit_times_mean - fit_times_std,\n",
        "                         fit_times_mean + fit_times_std, alpha=0.1)\n",
        "    axes[1].set_xlabel(\"Training examples\")\n",
        "    axes[1].set_ylabel(\"fit_times\")\n",
        "    axes[1].set_title(\"Scalability of the model-Extra Trees\")\n",
        "\n",
        "    # Plot fit_time vs score\n",
        "    axes[2].grid()\n",
        "    axes[2].plot(fit_times_mean, test_scores_mean, 'o-')\n",
        "    axes[2].fill_between(fit_times_mean, test_scores_mean - test_scores_std,\n",
        "                         test_scores_mean + test_scores_std, alpha=0.1)\n",
        "    axes[2].set_xlabel(\"fit_times\")\n",
        "    axes[2].set_ylabel(\"Score\")\n",
        "    axes[2].set_title(\"Performance of the model-Extra trees\")\n",
        "\n",
        "\n",
        "fig, axes = plt.subplots(3, 1, figsize=(10, 15))\n",
        "\n",
        "title = \"Learning Curves (Extra trees)\"\n",
        "# Cross validation with 10 iterations to get smoother mean test and train\n",
        "# score curves, each time with 20% data randomly selected as a validation set.\n",
        "cv = ShuffleSplit(n_splits=10, test_size=0.2, random_state=0)\n",
        "\n",
        "estimator = ExtraTreesClassifier()\n",
        "plot_learning_curve(estimator, title, x, y,axes=axes[:,], cv=cv, ylim=(0.7, 1.01), n_jobs=4)\n",
        "\n",
        "plt.show()"
      ]
    },
    {
      "cell_type": "code",
      "execution_count": 22,
      "metadata": {
        "id": "TX4kZE1T6z7m",
        "outputId": "5d4be051-8983-42c4-d8a6-37c851e69183",
        "colab": {
          "base_uri": "https://localhost:8080/",
          "height": 301
        }
      },
      "outputs": [
        {
          "output_type": "display_data",
          "data": {
            "image/png": "[encoded data removed]",
            "text/plain": [
              "<Figure size 432x288 with 1 Axes>"
            ]
          },
          "metadata": {
            "needs_background": "light"
          }
        }
      ],
      "source": [
        "importances = clf.feature_importances_\n",
        "indices = np.argsort(importances)\n",
        "features = data.columns\n",
        "plt.title('Feature Importances')\n",
        "j = 11 # top j importance\n",
        "plt.barh(range(j), importances[indices][len(indices)-j:], color='g', align='center')\n",
        "plt.yticks(range(j), [features[i] for i in indices[len(indices)-j:]])\n",
        "plt.xlabel('Relative Importance')\n",
        "plt.show()"
      ]
    },
    {
      "cell_type": "code",
      "source": [
        ""
      ],
      "metadata": {
        "id": "JcGQK_gxlrz6"
      },
      "execution_count": null,
      "outputs": []
    }
  ],
  "metadata": {
    "kernelspec": {
      "display_name": "Python 3",
      "language": "python",
      "name": "python3"
    },
    "language_info": {
      "codemirror_mode": {
        "name": "ipython",
        "version": 3
      },
      "file_extension": ".py",
      "mimetype": "text/x-python",
      "name": "python",
      "nbconvert_exporter": "python",
      "pygments_lexer": "ipython3",
      "version": "3.7.3"
    },
    "colab": {
      "name": "Flood prediction ET with balancing.ipynb",
      "provenance": [],
      "include_colab_link": true
    }
  },
  "nbformat": 4,
  "nbformat_minor": 0
}